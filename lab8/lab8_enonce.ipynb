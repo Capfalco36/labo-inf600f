{
 "cells": [
  {
   "metadata": {},
   "cell_type": "markdown",
   "source": [
    "# Labo 8\n",
    "Opérations morphologiques binaires et en niveaux de gris"
   ]
  },
  {
   "metadata": {},
   "cell_type": "code",
   "outputs": [],
   "execution_count": null,
   "source": [
    "from skimage import data, morphology\n",
    "import matplotlib.pyplot as plt\n",
    "import numpy as np"
   ]
  },
  {
   "metadata": {},
   "cell_type": "markdown",
   "source": [
    "## Exercice 1\n",
    "Aller chercher les contours dans une image à l'aide d'une érosion"
   ]
  },
  {
   "metadata": {},
   "cell_type": "code",
   "outputs": [],
   "execution_count": null,
   "source": [
    "img = data.binary_blobs()\n",
    "\n",
    "img = img[0:500, 0:500]\n",
    "\n",
    "H = np.zeros((3,3))\n",
    "H[0,1] = 1; H[1,0] = 1;\n",
    "H[2,1] = 1; H[1,2] = 1;\n",
    "H[1,1] = 1\n",
    "\n",
    "img_p = morphology.binary_erosion(img, H)\n",
    "\n",
    "B = np.logical_xor(img, img_p)\n",
    "\n",
    "plt.figure(figsize=(15,15))\n",
    "\n",
    "plt.subplot(131); plt.imshow(img, cmap='gray'); plt.title('image')\n",
    "plt.subplot(132); plt.imshow(img_p, cmap='gray'); plt.title('image')\n",
    "plt.subplot(133); plt.imshow(B, cmap='gray'); plt.title('image')\n",
    "\n",
    "plt.show()"
   ]
  },
  {
   "metadata": {},
   "cell_type": "markdown",
   "source": [
    "## Exercice 2\n",
    "Faire une dilatation géodésique avec un masque de sorte à reconstruire des blobs à partir d'un point (seed)"
   ]
  },
  {
   "metadata": {},
   "cell_type": "code",
   "outputs": [],
   "execution_count": null,
   "source": [
    "mask = img[150:300, 100:250]\n",
    "seed = np.zeros_like(mask)\n",
    "seed[80, 25] = 1\n",
    "h = [[0, 1, 0],\n",
    "     [1, 1, 1],\n",
    "     [0, 1, 0]]\n",
    "h=np.array(h)\n",
    "\n",
    "plt.figure(figsize=(15,15))\n",
    "\n",
    "plt.subplot(131); plt.imshow(mask, cmap='gray'); plt.title('mask')\n",
    "plt.subplot(132); plt.imshow(seed, cmap='gray'); plt.title('seed')\n",
    "\n",
    "prev = None\n",
    "curr = seed.copy()\n",
    "\n",
    "while np.not_equal(prev, curr).any():\n",
    "    prev = curr.copy()\n",
    "    dill = morphology.dilation(curr, h)\n",
    "    curr = np.logical_and(dill, mask)\n",
    "\n",
    "plt.subplot(133); plt.imshow(curr, cmap='gray'); plt.title('mask')\n",
    "\n",
    "plt.show()"
   ]
  },
  {
   "metadata": {},
   "cell_type": "markdown",
   "source": [
    "## Exercice 3\n",
    "Faire une fermeture avec notre image afin de retirer les blobs plus petits"
   ]
  },
  {
   "metadata": {},
   "cell_type": "code",
   "outputs": [],
   "execution_count": null,
   "source": [
    "img = data.binary_blobs()\n",
    "h = morphology.disk(10)\n",
    "\n",
    "plt.figure(figsize=(15,15))\n",
    "\n",
    "plt.subplot(131); plt.imshow(img, cmap='gray'); plt.title('image')\n",
    "\n",
    "plt.subplot(132); plt.imshow(h, cmap='gray'); plt.title('kernel')\n",
    "\n",
    "img_eroded = morphology.binary_closing(img, h)\n",
    "\n",
    "plt.subplot(133); plt.imshow(img_eroded, cmap='gray'); plt.title('eroded')\n",
    "\n",
    "plt.show()"
   ]
  },
  {
   "metadata": {},
   "cell_type": "markdown",
   "source": [
    "## Exercice 4\n",
    "Faire une ouverture sur différent niveau de gris pour retirer la majorité des petites étoiles"
   ]
  },
  {
   "metadata": {},
   "cell_type": "code",
   "outputs": [],
   "execution_count": null,
   "source": [
    "img = data.hubble_deep_field().mean(axis=2)[:500, :500]\n",
    "h = morphology.disk(2)\n",
    "\n",
    "plt.figure(figsize=(15,15))\n",
    "\n",
    "plt.subplot(131); plt.imshow(img, cmap='gray'); plt.title('image')\n",
    "\n",
    "plt.subplot(132); plt.imshow(h, cmap='gray'); plt.title('kernel')\n",
    "\n",
    "img_opening = morphology.opening(img, h)\n",
    "plt.subplot(133); plt.imshow(img_opening, cmap='gray'); plt.title('eroded')\n",
    "\n",
    "plt.show()"
   ]
  },
  {
   "metadata": {},
   "cell_type": "markdown",
   "source": [
    "## Exercice 5\n",
    "Appliquer un filtre Top-Hat afin de récupérer les étoiles retirer de l'image suite à l'ouverture.\n",
    "> https://scikit-image.org/docs/dev/auto_examples/filters/plot_tophat.html"
   ]
  },
  {
   "metadata": {},
   "cell_type": "code",
   "outputs": [],
   "execution_count": null,
   "source": [
    "img = data.hubble_deep_field().mean(axis=2)[:500, :500]\n",
    "\n",
    "plt.figure(figsize=(15,15))\n",
    "\n",
    "plt.subplot(131); plt.imshow(img, cmap='gray'); plt.title('image')\n",
    "\n",
    "h =  morphology.disk(1)\n",
    "res = morphology.white_tophat(img, h)\n",
    "\n",
    "plt.subplot(132); plt.imshow(img_opening, cmap='gray'); plt.title('eroded')\n",
    "plt.subplot(133); plt.imshow(res, cmap='gray'); plt.title('white_tophat')\n",
    "\n",
    "plt.show()"
   ]
  },
  {
   "metadata": {},
   "cell_type": "code",
   "outputs": [],
   "execution_count": null,
   "source": ""
  }
 ],
 "metadata": {
  "kernelspec": {
   "display_name": "Python 3",
   "language": "python",
   "name": "python3"
  },
  "language_info": {
   "codemirror_mode": {
    "name": "ipython",
    "version": 3
   },
   "file_extension": ".py",
   "mimetype": "text/x-python",
   "name": "python",
   "nbconvert_exporter": "python",
   "pygments_lexer": "ipython3",
   "version": "3.8.3"
  }
 },
 "nbformat": 4,
 "nbformat_minor": 4
}
